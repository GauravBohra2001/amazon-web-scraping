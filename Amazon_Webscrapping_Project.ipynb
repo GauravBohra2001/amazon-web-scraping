{
 "cells": [
  {
   "cell_type": "code",
   "execution_count": 15,
   "metadata": {},
   "outputs": [],
   "source": [
    "#Importing all the needed libraries\n",
    "from bs4 import BeautifulSoup\n",
    "import requests\n",
    "import pandas as pd"
   ]
  },
  {
   "cell_type": "code",
   "execution_count": 16,
   "metadata": {},
   "outputs": [],
   "source": [
    "#Here the URL is of the targeted website\n",
    "URL = \"https://www.amazon.co.uk/s?k=data+engineering+books&sprefix=%2Caps%2C788&ref=nb_sb_ss_recent_1_0_recent\"\n",
    "HEADERS = {\"User-Agent\": \"Mozilla/5.0 (Windows NT 10.0; Win64; x64) AppleWebKit/537.36 (KHTML, like Gecko) Chrome/114.0.0.0 Safari/537.36\", \"Accept-Language\": \"en-US,en;q=0.9\"}"
   ]
  },
  {
   "cell_type": "code",
   "execution_count": 17,
   "metadata": {},
   "outputs": [],
   "source": [
    "#Establishing a connection with the website\n",
    "webpage = requests.get(URL, headers=HEADERS)\n",
    "soup = BeautifulSoup(webpage.content, \"html.parser\")\n",
    "all_product_link = soup.find_all(\"a\", attrs={\"class\": 'a-link-normal s-underline-text s-underline-link-text s-link-style a-text-normal'})"
   ]
  },
  {
   "cell_type": "code",
   "execution_count": 18,
   "metadata": {},
   "outputs": [],
   "source": [
    "#Here all the links from that particular webpage is there which are clickable\n",
    "all_product_clickable_link = []\n",
    "for i in all_product_link:\n",
    "    all_product_clickable_link.append(\"https://www.amazon.co.uk/\"+i.get('href'))    "
   ]
  },
  {
   "cell_type": "code",
   "execution_count": 19,
   "metadata": {},
   "outputs": [
    {
     "name": "stdout",
     "output_type": "stream",
     "text": [
      "22\n"
     ]
    }
   ],
   "source": [
    "#In this converting the content of links from bytes to html\n",
    "soup_newpage = []\n",
    "for i in all_product_clickable_link:\n",
    "    new_webpage = requests.get(i, headers=HEADERS)\n",
    "    soup_newpage.append(BeautifulSoup(new_webpage.content, \"html.parser\"))\n",
    "print(len(soup_newpage))"
   ]
  },
  {
   "cell_type": "code",
   "execution_count": 26,
   "metadata": {},
   "outputs": [],
   "source": [
    "#This function is used to fetch title from the links\n",
    "def product_title(soup_newpage):\n",
    "    try:\n",
    "        product_title = soup_newpage.find(\"span\", attrs={'id':'productTitle'})\n",
    "        if product_title:\n",
    "            product_title = product_title.text.strip()\n",
    "            return product_title\n",
    "        else:\n",
    "            return None  # Return default value if price element is not found\n",
    "    except AttributeError:\n",
    "        return None  # Return default value if any attribute error occurs\n"
   ]
  },
  {
   "cell_type": "code",
   "execution_count": 27,
   "metadata": {},
   "outputs": [],
   "source": [
    "#This function is used to fetch price from the links\n",
    "def product_price(soup_newpage):\n",
    "    try:\n",
    "        price_element = soup_newpage.find(\"span\", attrs={'class':'a-size-base a-color-price a-color-price'})\n",
    "        if price_element:\n",
    "            product_price = price_element.text.strip()\n",
    "            return product_price\n",
    "        else:\n",
    "            return None  # Return default value if price element is not found\n",
    "    except AttributeError:\n",
    "        return None  # Return default value if any attribute error occurs\n"
   ]
  },
  {
   "cell_type": "code",
   "execution_count": 28,
   "metadata": {},
   "outputs": [],
   "source": [
    "#This function is used to fetch review from the links\n",
    "def product_review(soup_newpage):\n",
    "    try:\n",
    "        product_review = soup_newpage.find(\"span\", attrs = {'id':'acrCustomerReviewText'})\n",
    "        if product_review:\n",
    "            product_review = product_review.text.strip()\n",
    "            return product_review\n",
    "        else:\n",
    "            return None  # Return default value if price element is not found\n",
    "    except AttributeError:\n",
    "        return None  # Return default value if any attribute error occurs\n"
   ]
  },
  {
   "cell_type": "code",
   "execution_count": 29,
   "metadata": {},
   "outputs": [],
   "source": [
    "#This function is used to fetch ratings from the links\n",
    "def product_ratings(soup_newpage):\n",
    "    try:\n",
    "        product_ratings = soup_newpage.find(\"span\", attrs = {'class' : 'a-icon-alt'})\n",
    "        if product_ratings:\n",
    "            product_ratings = product_ratings.text.strip()\n",
    "            return product_ratings\n",
    "        else:\n",
    "            return None  # Return default value if price element is not found\n",
    "    except AttributeError:\n",
    "        return None  # Return default value if any attribute error occurs\n"
   ]
  },
  {
   "cell_type": "code",
   "execution_count": 25,
   "metadata": {},
   "outputs": [],
   "source": [
    "#printing all the values in individual lists\n",
    "title = []\n",
    "price = []\n",
    "review = []\n",
    "ratings = []\n",
    "for i in soup_newpage:\n",
    "    title.append(product_title(i))\n",
    "    price.append(product_price(i))\n",
    "    review.append(product_review(i))\n",
    "    ratings.append(product_ratings(i))"
   ]
  },
  {
   "cell_type": "code",
   "execution_count": 72,
   "metadata": {},
   "outputs": [
    {
     "name": "stdout",
     "output_type": "stream",
     "text": [
      "                                                Title   Price       Review  \\\n",
      "0   Fundamentals of Data Engineering: Plan and Bui...  £44.32  232 ratings   \n",
      "1   Data Engineering with AWS: Learn how to design...  £38.99   72 ratings   \n",
      "2   Microsoft Power BI Quick Start Guide: The ulti...  £31.99   47 ratings   \n",
      "3   Fundamentals of Data Engineering: Designing an...    None    9 ratings   \n",
      "4   Azure Data Engineering Cookbook: Get well vers...  £37.99    4 ratings   \n",
      "5                            An Engineering Data Book  £24.99   15 ratings   \n",
      "6   Microsoft Power BI Data Analyst Certification ...  £33.99   30 ratings   \n",
      "7   Data Analytics, Data Visualization & Communica...  £29.99   35 ratings   \n",
      "8   Data Engineering with AWS: Learn how to design...  £38.99   72 ratings   \n",
      "9   Azure Data Engineering Cookbook: Design and im...  £18.84    9 ratings   \n",
      "10    The Marine Engineering Data Book: Cadet Edition  £19.99    4 ratings   \n",
      "11                               Engineers′ Data Book  £16.25  168 ratings   \n",
      "12  Electrical engineering without prior knowledge...  £14.89  190 ratings   \n",
      "13  Data Engineering and Data Science for Babies: ...   £6.57    3 ratings   \n",
      "14  The Only ChatGPT Prompts Book You’ll Ever Need...    None   83 ratings   \n",
      "15                      Engineers Precision Data Book  £21.44   44 ratings   \n",
      "16  Data Engineering with Apache Spark, Delta Lake...  £35.99   44 ratings   \n",
      "17  Modern Time Series Forecasting with Python: Ex...  £39.99   15 ratings   \n",
      "18  Data-Driven Science and Engineering: Machine L...  £48.99  232 ratings   \n",
      "19  Data Engineering with dbt: A practical guide t...  £37.99         None   \n",
      "20  Data Engineering with Google Cloud Platform: A...  £41.99   13 ratings   \n",
      "21  Metalworker's Data Book: No. 42 (Workshop Prac...   £6.99  281 ratings   \n",
      "\n",
      "               Ratings  \n",
      "0   4.7 out of 5 stars  \n",
      "1   4.4 out of 5 stars  \n",
      "2   4.2 out of 5 stars  \n",
      "3   5.0 out of 5 stars  \n",
      "4   2.4 out of 5 stars  \n",
      "5   4.1 out of 5 stars  \n",
      "6   4.1 out of 5 stars  \n",
      "7   4.4 out of 5 stars  \n",
      "8   4.4 out of 5 stars  \n",
      "9   3.3 out of 5 stars  \n",
      "10  5.0 out of 5 stars  \n",
      "11  4.6 out of 5 stars  \n",
      "12  4.3 out of 5 stars  \n",
      "13  3.5 out of 5 stars  \n",
      "14  4.9 out of 5 stars  \n",
      "15  4.6 out of 5 stars  \n",
      "16  3.8 out of 5 stars  \n",
      "17  4.8 out of 5 stars  \n",
      "18  4.7 out of 5 stars  \n",
      "19       Previous page  \n",
      "20  4.7 out of 5 stars  \n",
      "21  4.6 out of 5 stars  \n"
     ]
    }
   ],
   "source": [
    "#Creating a dataframe to print all the data\n",
    "df = pd.DataFrame({'Title' : title, 'Price' : price, 'Review': review, 'Ratings': ratings})\n",
    "print(df)"
   ]
  }
 ],
 "metadata": {
  "kernelspec": {
   "display_name": "Python 3",
   "language": "python",
   "name": "python3"
  },
  "language_info": {
   "codemirror_mode": {
    "name": "ipython",
    "version": 3
   },
   "file_extension": ".py",
   "mimetype": "text/x-python",
   "name": "python",
   "nbconvert_exporter": "python",
   "pygments_lexer": "ipython3",
   "version": "3.9.1"
  },
  "varInspector": {
   "cols": {
    "lenName": 16,
    "lenType": 16,
    "lenVar": 40
   },
   "kernels_config": {
    "python": {
     "delete_cmd_postfix": "",
     "delete_cmd_prefix": "del ",
     "library": "var_list.py",
     "varRefreshCmd": "print(var_dic_list())"
    },
    "r": {
     "delete_cmd_postfix": ") ",
     "delete_cmd_prefix": "rm(",
     "library": "var_list.r",
     "varRefreshCmd": "cat(var_dic_list()) "
    }
   },
   "types_to_exclude": [
    "module",
    "function",
    "builtin_function_or_method",
    "instance",
    "_Feature"
   ],
   "window_display": false
  }
 },
 "nbformat": 4,
 "nbformat_minor": 4
}
